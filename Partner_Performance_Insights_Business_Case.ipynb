{
  "cells": [
    {
      "cell_type": "markdown",
      "metadata": {
        "id": "p7orpZtWBS4J"
      },
      "source": [
        "# Partner Performance Insights - Business Case\n",
        "\n",
        "## Introduction\n",
        "\n",
        "This project aims to analyze a dataset representing visits and payments to partners, including details on activities, segments, and payment types. To conduct the analysis, I will use **Python** for data preparation, validation, and cleaning due to its flexibility and efficiency. After this stage, the data will be exported in **CSV** format and imported into **SQL Server Management Studio (SSMS)**, where it will be structured and processed to identify key correlations and extract strategic insights.\n",
        "\n",
        "## Understanding the Case\n",
        "\n",
        "Before starting any analysis, it is essential to clearly define the problem to be solved. The purpose of this phase is to establish the analysis objectives and define key assumptions that will guide the project.\n",
        "\n",
        "### Objective\n",
        "\n",
        "The provided data represents visits and payments made to partners. Within this context, I am responsible for developing data-driven insights for the platform that manages these partners. The key objectives include:\n",
        "\n",
        "\n",
        "\n",
        "*   Conducting an exploratory analysis of the provided data.\n",
        "*   Generating strategic insights to enhance partner engagement and operational efficiency.\n",
        "*   Presenting the findings through comprehensive documentation, structured queries, insightful dashboards, and an executive presentation.\n",
        "\n",
        "There are no restrictions on the tools used; however, it is mandatory that the documentation, queries, dashboard, and presentation be delivered in English.\n",
        "\n",
        "### Assumptions\n",
        "\n",
        "During the initial data assessment, the following assumptions were made to ensure consistent calculations and interpretations:\n",
        "\n",
        "* CAP Adjustment → Upon reviewing the provided datasets, I identified that the CAP value is approximately 10 times the session cost. Based on the case description, which defines the CAP (Maximum Payment Limit) as the maximum amount that can be paid per visit, and considering the provided example where the session cost is close to the CAP value, we adjusted this metric by dividing the reported CAP by 10.\n",
        "\n",
        "* Classification of Payment Type → The \"Retroactive\" payment type was classified as completed sessions, which were paid with a certain delay.\n",
        "\n",
        "* CAP Hit Calculation → To calculate the CAP hit metric, we considered transactions where the CAP is equal to the actual session cost as having reached the payment limit.\n",
        "\n",
        "## Understanding the Data\n",
        "\n",
        "At this stage, we analyze the metadata of the provided datasets and apply data transformations to inspect, clean, and extract key information for further analysis. The initial processing ensures that the data is properly structured before deeper exploration.\n",
        "\n",
        "### Initial Setup\n",
        "\n",
        "At this stage, we load all the libraries that will be used throughout the project. This approach optimizes the workflow by reducing redundant imports and ensuring better code organization.\n",
        "\n",
        "At this stage, we will examine each table individually to understand the data they contain and their respective information. This process is essential to ensure a clear understanding of the data structure before proceeding with the analysis.\n",
        "\n",
        "### Libraries"
      ]
    },
    {
      "cell_type": "code",
      "execution_count": null,
      "metadata": {
        "id": "FgryHA6j_4Eb"
      },
      "outputs": [],
      "source": [
        "import pandas as pd\n",
        "from datetime import datetime\n",
        "from google.colab import files\n"
      ]
    },
    {
      "cell_type": "code",
      "execution_count": null,
      "metadata": {
        "colab": {
          "base_uri": "https://localhost:8080/",
          "height": 73
        },
        "id": "IINpBDNqALMk",
        "outputId": "c2e8543b-8458-4a51-b8e9-1b4961b7a515"
      },
      "outputs": [
        {
          "data": {
            "text/html": [
              "\n",
              "     <input type=\"file\" id=\"files-a1f67224-d206-4032-978a-eed256bb760a\" name=\"files[]\" multiple disabled\n",
              "        style=\"border:none\" />\n",
              "     <output id=\"result-a1f67224-d206-4032-978a-eed256bb760a\">\n",
              "      Upload widget is only available when the cell has been executed in the\n",
              "      current browser session. Please rerun this cell to enable.\n",
              "      </output>\n",
              "      <script>// Copyright 2017 Google LLC\n",
              "//\n",
              "// Licensed under the Apache License, Version 2.0 (the \"License\");\n",
              "// you may not use this file except in compliance with the License.\n",
              "// You may obtain a copy of the License at\n",
              "//\n",
              "//      http://www.apache.org/licenses/LICENSE-2.0\n",
              "//\n",
              "// Unless required by applicable law or agreed to in writing, software\n",
              "// distributed under the License is distributed on an \"AS IS\" BASIS,\n",
              "// WITHOUT WARRANTIES OR CONDITIONS OF ANY KIND, either express or implied.\n",
              "// See the License for the specific language governing permissions and\n",
              "// limitations under the License.\n",
              "\n",
              "/**\n",
              " * @fileoverview Helpers for google.colab Python module.\n",
              " */\n",
              "(function(scope) {\n",
              "function span(text, styleAttributes = {}) {\n",
              "  const element = document.createElement('span');\n",
              "  element.textContent = text;\n",
              "  for (const key of Object.keys(styleAttributes)) {\n",
              "    element.style[key] = styleAttributes[key];\n",
              "  }\n",
              "  return element;\n",
              "}\n",
              "\n",
              "// Max number of bytes which will be uploaded at a time.\n",
              "const MAX_PAYLOAD_SIZE = 100 * 1024;\n",
              "\n",
              "function _uploadFiles(inputId, outputId) {\n",
              "  const steps = uploadFilesStep(inputId, outputId);\n",
              "  const outputElement = document.getElementById(outputId);\n",
              "  // Cache steps on the outputElement to make it available for the next call\n",
              "  // to uploadFilesContinue from Python.\n",
              "  outputElement.steps = steps;\n",
              "\n",
              "  return _uploadFilesContinue(outputId);\n",
              "}\n",
              "\n",
              "// This is roughly an async generator (not supported in the browser yet),\n",
              "// where there are multiple asynchronous steps and the Python side is going\n",
              "// to poll for completion of each step.\n",
              "// This uses a Promise to block the python side on completion of each step,\n",
              "// then passes the result of the previous step as the input to the next step.\n",
              "function _uploadFilesContinue(outputId) {\n",
              "  const outputElement = document.getElementById(outputId);\n",
              "  const steps = outputElement.steps;\n",
              "\n",
              "  const next = steps.next(outputElement.lastPromiseValue);\n",
              "  return Promise.resolve(next.value.promise).then((value) => {\n",
              "    // Cache the last promise value to make it available to the next\n",
              "    // step of the generator.\n",
              "    outputElement.lastPromiseValue = value;\n",
              "    return next.value.response;\n",
              "  });\n",
              "}\n",
              "\n",
              "/**\n",
              " * Generator function which is called between each async step of the upload\n",
              " * process.\n",
              " * @param {string} inputId Element ID of the input file picker element.\n",
              " * @param {string} outputId Element ID of the output display.\n",
              " * @return {!Iterable<!Object>} Iterable of next steps.\n",
              " */\n",
              "function* uploadFilesStep(inputId, outputId) {\n",
              "  const inputElement = document.getElementById(inputId);\n",
              "  inputElement.disabled = false;\n",
              "\n",
              "  const outputElement = document.getElementById(outputId);\n",
              "  outputElement.innerHTML = '';\n",
              "\n",
              "  const pickedPromise = new Promise((resolve) => {\n",
              "    inputElement.addEventListener('change', (e) => {\n",
              "      resolve(e.target.files);\n",
              "    });\n",
              "  });\n",
              "\n",
              "  const cancel = document.createElement('button');\n",
              "  inputElement.parentElement.appendChild(cancel);\n",
              "  cancel.textContent = 'Cancel upload';\n",
              "  const cancelPromise = new Promise((resolve) => {\n",
              "    cancel.onclick = () => {\n",
              "      resolve(null);\n",
              "    };\n",
              "  });\n",
              "\n",
              "  // Wait for the user to pick the files.\n",
              "  const files = yield {\n",
              "    promise: Promise.race([pickedPromise, cancelPromise]),\n",
              "    response: {\n",
              "      action: 'starting',\n",
              "    }\n",
              "  };\n",
              "\n",
              "  cancel.remove();\n",
              "\n",
              "  // Disable the input element since further picks are not allowed.\n",
              "  inputElement.disabled = true;\n",
              "\n",
              "  if (!files) {\n",
              "    return {\n",
              "      response: {\n",
              "        action: 'complete',\n",
              "      }\n",
              "    };\n",
              "  }\n",
              "\n",
              "  for (const file of files) {\n",
              "    const li = document.createElement('li');\n",
              "    li.append(span(file.name, {fontWeight: 'bold'}));\n",
              "    li.append(span(\n",
              "        `(${file.type || 'n/a'}) - ${file.size} bytes, ` +\n",
              "        `last modified: ${\n",
              "            file.lastModifiedDate ? file.lastModifiedDate.toLocaleDateString() :\n",
              "                                    'n/a'} - `));\n",
              "    const percent = span('0% done');\n",
              "    li.appendChild(percent);\n",
              "\n",
              "    outputElement.appendChild(li);\n",
              "\n",
              "    const fileDataPromise = new Promise((resolve) => {\n",
              "      const reader = new FileReader();\n",
              "      reader.onload = (e) => {\n",
              "        resolve(e.target.result);\n",
              "      };\n",
              "      reader.readAsArrayBuffer(file);\n",
              "    });\n",
              "    // Wait for the data to be ready.\n",
              "    let fileData = yield {\n",
              "      promise: fileDataPromise,\n",
              "      response: {\n",
              "        action: 'continue',\n",
              "      }\n",
              "    };\n",
              "\n",
              "    // Use a chunked sending to avoid message size limits. See b/62115660.\n",
              "    let position = 0;\n",
              "    do {\n",
              "      const length = Math.min(fileData.byteLength - position, MAX_PAYLOAD_SIZE);\n",
              "      const chunk = new Uint8Array(fileData, position, length);\n",
              "      position += length;\n",
              "\n",
              "      const base64 = btoa(String.fromCharCode.apply(null, chunk));\n",
              "      yield {\n",
              "        response: {\n",
              "          action: 'append',\n",
              "          file: file.name,\n",
              "          data: base64,\n",
              "        },\n",
              "      };\n",
              "\n",
              "      let percentDone = fileData.byteLength === 0 ?\n",
              "          100 :\n",
              "          Math.round((position / fileData.byteLength) * 100);\n",
              "      percent.textContent = `${percentDone}% done`;\n",
              "\n",
              "    } while (position < fileData.byteLength);\n",
              "  }\n",
              "\n",
              "  // All done.\n",
              "  yield {\n",
              "    response: {\n",
              "      action: 'complete',\n",
              "    }\n",
              "  };\n",
              "}\n",
              "\n",
              "scope.google = scope.google || {};\n",
              "scope.google.colab = scope.google.colab || {};\n",
              "scope.google.colab._files = {\n",
              "  _uploadFiles,\n",
              "  _uploadFilesContinue,\n",
              "};\n",
              "})(self);\n",
              "</script> "
            ],
            "text/plain": [
              "<IPython.core.display.HTML object>"
            ]
          },
          "metadata": {},
          "output_type": "display_data"
        },
        {
          "name": "stdout",
          "output_type": "stream",
          "text": [
            "Saving Case Partner Ops Data - Table1_partners_payout.csv to Case Partner Ops Data - Table1_partners_payout (1).csv\n"
          ]
        }
      ],
      "source": [
        "uploaded = files.upload()  #This will open a window to select the CSV file.\n"
      ]
    },
    {
      "cell_type": "code",
      "execution_count": null,
      "metadata": {
        "id": "t1EecKkSAXZl"
      },
      "outputs": [],
      "source": [
        "df = pd.read_csv(\"Case Partner Ops Data - Table1_partners_payout.csv\") #Reading Table 1"
      ]
    },
    {
      "cell_type": "markdown",
      "metadata": {
        "id": "ubbBqoHdTBXu"
      },
      "source": [
        "The table **Case Partner Ops Data - Table1_partners_payout.csv** presents inconsistencies in the date format within the **flt_pyt_session_considered_at_localtime column**, containing values in different formats within the same column.\n",
        "\n",
        "Additionally, the numeric columns **flt_pyt_transaction_cost** and **flt_pyt_product_cap** are stored in different data types."
      ]
    },
    {
      "cell_type": "code",
      "execution_count": null,
      "metadata": {
        "colab": {
          "base_uri": "https://localhost:8080/"
        },
        "id": "FwhnQVwpC6ae",
        "outputId": "55f01ef4-314d-4709-e7b9-a9098ebf8fef"
      },
      "outputs": [
        {
          "name": "stdout",
          "output_type": "stream",
          "text": [
            "   flt_pyt_debug_core_partner_id flt_pyt_partner_trade_name  \\\n",
            "0                            105                      Gym A   \n",
            "1                            105                      Gym E   \n",
            "2                            102                      Gym E   \n",
            "3                            104                      Gym B   \n",
            "4                            104                      Gym B   \n",
            "\n",
            "   flt_pyt_partner_product_id flt_pyt_session_considered_at_localtime  \\\n",
            "0                        1005                      1/31/2025 16:54:01   \n",
            "1                        1014                      1/31/2025 12:01:44   \n",
            "2                        1015                       1/31/2025 9:50:03   \n",
            "3                        1003                       1/31/2025 9:33:29   \n",
            "4                        1002                      1/30/2025 12:35:26   \n",
            "\n",
            "  flt_pyt_transaction_created_at  flt_pyt_debug_gympass_individual_id  \\\n",
            "0            2025-01-31 13:54:01                                  931   \n",
            "1             2025-01-31 9:01:44                                  645   \n",
            "2             2025-01-31 6:50:03                                  708   \n",
            "3             2025-01-31 6:33:29                                 2002   \n",
            "4             2025-01-30 9:35:26                                  727   \n",
            "\n",
            "   flt_pyt_transaction_cost flt_pyt_transaction_type  flt_pyt_product_cap  \n",
            "0                      20.0              LATE_CANCEL                  400  \n",
            "1                     100.0               VALIDATION                  800  \n",
            "2                      60.0              RETROACTIVE                  600  \n",
            "3                      30.0               VALIDATION                  300  \n",
            "4                     100.0              RETROACTIVE                  800  \n"
          ]
        }
      ],
      "source": [
        "print(df.head(5)) #Displays the first 5 rows of the dataset.\n"
      ]
    },
    {
      "cell_type": "markdown",
      "metadata": {
        "id": "fDDWcexeUwC8"
      },
      "source": [
        "As shown below, **flt_pyt_transaction_cost** is represented as a floating-point number, while flt_pyt_product_cap is stored as an integer.\n",
        "\n",
        "To ensure data consistency, all numeric columns will be standardized to the floating-point format."
      ]
    },
    {
      "cell_type": "code",
      "execution_count": null,
      "metadata": {
        "colab": {
          "base_uri": "https://localhost:8080/"
        },
        "id": "kOSkRl1nDRCO",
        "outputId": "06498d0c-c754-4931-e38e-15360f044a78"
      },
      "outputs": [
        {
          "name": "stdout",
          "output_type": "stream",
          "text": [
            "<class 'pandas.core.frame.DataFrame'>\n",
            "RangeIndex: 99 entries, 0 to 98\n",
            "Data columns (total 9 columns):\n",
            " #   Column                                   Non-Null Count  Dtype  \n",
            "---  ------                                   --------------  -----  \n",
            " 0   flt_pyt_debug_core_partner_id            99 non-null     int64  \n",
            " 1   flt_pyt_partner_trade_name               99 non-null     object \n",
            " 2   flt_pyt_partner_product_id               99 non-null     int64  \n",
            " 3   flt_pyt_session_considered_at_localtime  99 non-null     object \n",
            " 4   flt_pyt_transaction_created_at           99 non-null     object \n",
            " 5   flt_pyt_debug_gympass_individual_id      99 non-null     int64  \n",
            " 6   flt_pyt_transaction_cost                 99 non-null     float64\n",
            " 7   flt_pyt_transaction_type                 99 non-null     object \n",
            " 8   flt_pyt_product_cap                      99 non-null     int64  \n",
            "dtypes: float64(1), int64(4), object(4)\n",
            "memory usage: 7.1+ KB\n",
            "None\n"
          ]
        }
      ],
      "source": [
        "print(df.info())  #Displays data types and null values.\n"
      ]
    },
    {
      "cell_type": "markdown",
      "metadata": {
        "id": "L2nGtz02WmEM"
      },
      "source": [
        "Since the column **flt_pyt_session_considered_at_localtime** contains dates in both correct and incorrect formats, we need to identify only those that require correction."
      ]
    },
    {
      "cell_type": "code",
      "execution_count": null,
      "metadata": {
        "id": "EVoxbDnQEGK-"
      },
      "outputs": [],
      "source": [
        "#Function to correct only the dates in the incorrect format\n",
        "def corrigir_data(data):\n",
        "    try:\n",
        "        #Attempts to directly convert to the correct format.\n",
        "        return datetime.strptime(data, \"%Y-%m-%d %H:%M:%S\").strftime(\"%Y-%m-%d %H:%M:%S\")\n",
        "    except ValueError:\n",
        "        #If an error occurs, it indicates that the date is in the wrong format and requires correction\n",
        "        return datetime.strptime(data, \"%m/%d/%Y %H:%M:%S\").strftime(\"%Y-%m-%d %H:%M:%S\")"
      ]
    },
    {
      "cell_type": "code",
      "execution_count": null,
      "metadata": {
        "id": "1mxd4M4SF89_"
      },
      "outputs": [],
      "source": [
        "#Apply the correction only to the incorrect dates.\n",
        "df['flt_pyt_session_considered_at_localtime'] = df['flt_pyt_session_considered_at_localtime'].astype(str).apply(corrigir_data)"
      ]
    },
    {
      "cell_type": "code",
      "execution_count": null,
      "metadata": {
        "colab": {
          "base_uri": "https://localhost:8080/"
        },
        "id": "X7Ij8pBvGeRE",
        "outputId": "fe8cf198-2d97-4a1f-e3cd-2cc335f70a54"
      },
      "outputs": [
        {
          "name": "stdout",
          "output_type": "stream",
          "text": [
            "  flt_pyt_session_considered_at_localtime\n",
            "0                     2025-01-31 16:54:01\n",
            "1                     2025-01-31 12:01:44\n",
            "2                     2025-01-31 09:50:03\n",
            "3                     2025-01-31 09:33:29\n",
            "4                     2025-01-30 12:35:26\n"
          ]
        }
      ],
      "source": [
        "print(df[['flt_pyt_session_considered_at_localtime']].head(5)) #Verified if the correction worked.\n"
      ]
    },
    {
      "cell_type": "markdown",
      "metadata": {
        "id": "9r6jwpn-eR2l"
      },
      "source": [
        "After correcting the date format, the **flt_pyt_product_cap** column was normalized to a floating-point format by applying the correction of dividing by 10."
      ]
    },
    {
      "cell_type": "code",
      "execution_count": null,
      "metadata": {
        "id": "H9sTgK1hNIw3"
      },
      "outputs": [],
      "source": [
        "#Convert the columns to float.\n",
        "df['flt_pyt_transaction_cost'] = df['flt_pyt_transaction_cost'].astype(float)\n",
        "df['flt_pyt_product_cap'] = df['flt_pyt_product_cap'].astype(float) / 10  #Dividing by 10\n",
        "\n",
        "#Replace the period with a comma in the specified columns.\n",
        "df['flt_pyt_transaction_cost'] = df['flt_pyt_transaction_cost'].apply(lambda x: str(x).replace('.', ','))\n",
        "df['flt_pyt_product_cap'] = df['flt_pyt_product_cap'].apply(lambda x: str(x).replace('.', ','))\n",
        "\n",
        "\n"
      ]
    },
    {
      "cell_type": "code",
      "execution_count": null,
      "metadata": {
        "colab": {
          "base_uri": "https://localhost:8080/"
        },
        "id": "OpwIW8Rh0RTV",
        "outputId": "6e6050b5-e006-48c3-e146-cc19f5b528b7"
      },
      "outputs": [
        {
          "name": "stdout",
          "output_type": "stream",
          "text": [
            "       flt_pyt_transaction_cost flt_pyt_product_cap\n",
            "count                        99                  99\n",
            "unique                       11                   8\n",
            "top                        30,0                80,0\n",
            "freq                         18                  26\n"
          ]
        }
      ],
      "source": [
        "print(df[['flt_pyt_transaction_cost', 'flt_pyt_product_cap']].describe())"
      ]
    },
    {
      "cell_type": "markdown",
      "metadata": {
        "id": "V0b8pN2GfdKi"
      },
      "source": [
        "After the correction, the file was saved as *'Case Partner Ops Data - Table1_partners_payout_adjusted.csv'* and downloaded in **CSV** format."
      ]
    },
    {
      "cell_type": "code",
      "execution_count": null,
      "metadata": {
        "colab": {
          "base_uri": "https://localhost:8080/",
          "height": 17
        },
        "id": "NahZo3eeWAiH",
        "outputId": "bfd59c7d-ed7f-441d-c7a9-1ecf9ec67028"
      },
      "outputs": [
        {
          "data": {
            "application/javascript": "\n    async function download(id, filename, size) {\n      if (!google.colab.kernel.accessAllowed) {\n        return;\n      }\n      const div = document.createElement('div');\n      const label = document.createElement('label');\n      label.textContent = `Downloading \"${filename}\": `;\n      div.appendChild(label);\n      const progress = document.createElement('progress');\n      progress.max = size;\n      div.appendChild(progress);\n      document.body.appendChild(div);\n\n      const buffers = [];\n      let downloaded = 0;\n\n      const channel = await google.colab.kernel.comms.open(id);\n      // Send a message to notify the kernel that we're ready.\n      channel.send({})\n\n      for await (const message of channel.messages) {\n        // Send a message to notify the kernel that we're ready.\n        channel.send({})\n        if (message.buffers) {\n          for (const buffer of message.buffers) {\n            buffers.push(buffer);\n            downloaded += buffer.byteLength;\n            progress.value = downloaded;\n          }\n        }\n      }\n      const blob = new Blob(buffers, {type: 'application/binary'});\n      const a = document.createElement('a');\n      a.href = window.URL.createObjectURL(blob);\n      a.download = filename;\n      div.appendChild(a);\n      a.click();\n      div.remove();\n    }\n  ",
            "text/plain": [
              "<IPython.core.display.Javascript object>"
            ]
          },
          "metadata": {},
          "output_type": "display_data"
        },
        {
          "data": {
            "application/javascript": "download(\"download_4f5af14b-86f8-4fd0-84f9-f8696ee3baec\", \"Case Partner Ops Data - Table1_partners_payout_adjusted.csv\", 8603)",
            "text/plain": [
              "<IPython.core.display.Javascript object>"
            ]
          },
          "metadata": {},
          "output_type": "display_data"
        }
      ],
      "source": [
        "df.to_csv(\"Case Partner Ops Data - Table1_partners_payout_adjusted.csv\", index=False)\n",
        "files.download(\"Case Partner Ops Data - Table1_partners_payout_adjusted.csv\")"
      ]
    },
    {
      "cell_type": "markdown",
      "metadata": {
        "id": "WoOZhroAf-64"
      },
      "source": [
        "With the first table completed, we will now review the data in the table *'Case Partner Ops Data - Table2_dimension_store.partners.csv'* to determine if any corrections are needed."
      ]
    },
    {
      "cell_type": "code",
      "execution_count": null,
      "metadata": {
        "colab": {
          "base_uri": "https://localhost:8080/",
          "height": 93
        },
        "id": "kHZGY9l7kh72",
        "outputId": "60bb35fd-8d77-47e7-ccc1-0baa013916d6"
      },
      "outputs": [
        {
          "data": {
            "text/html": [
              "\n",
              "     <input type=\"file\" id=\"files-439c0074-3a7a-4969-9277-effbafb00d91\" name=\"files[]\" multiple disabled\n",
              "        style=\"border:none\" />\n",
              "     <output id=\"result-439c0074-3a7a-4969-9277-effbafb00d91\">\n",
              "      Upload widget is only available when the cell has been executed in the\n",
              "      current browser session. Please rerun this cell to enable.\n",
              "      </output>\n",
              "      <script>// Copyright 2017 Google LLC\n",
              "//\n",
              "// Licensed under the Apache License, Version 2.0 (the \"License\");\n",
              "// you may not use this file except in compliance with the License.\n",
              "// You may obtain a copy of the License at\n",
              "//\n",
              "//      http://www.apache.org/licenses/LICENSE-2.0\n",
              "//\n",
              "// Unless required by applicable law or agreed to in writing, software\n",
              "// distributed under the License is distributed on an \"AS IS\" BASIS,\n",
              "// WITHOUT WARRANTIES OR CONDITIONS OF ANY KIND, either express or implied.\n",
              "// See the License for the specific language governing permissions and\n",
              "// limitations under the License.\n",
              "\n",
              "/**\n",
              " * @fileoverview Helpers for google.colab Python module.\n",
              " */\n",
              "(function(scope) {\n",
              "function span(text, styleAttributes = {}) {\n",
              "  const element = document.createElement('span');\n",
              "  element.textContent = text;\n",
              "  for (const key of Object.keys(styleAttributes)) {\n",
              "    element.style[key] = styleAttributes[key];\n",
              "  }\n",
              "  return element;\n",
              "}\n",
              "\n",
              "// Max number of bytes which will be uploaded at a time.\n",
              "const MAX_PAYLOAD_SIZE = 100 * 1024;\n",
              "\n",
              "function _uploadFiles(inputId, outputId) {\n",
              "  const steps = uploadFilesStep(inputId, outputId);\n",
              "  const outputElement = document.getElementById(outputId);\n",
              "  // Cache steps on the outputElement to make it available for the next call\n",
              "  // to uploadFilesContinue from Python.\n",
              "  outputElement.steps = steps;\n",
              "\n",
              "  return _uploadFilesContinue(outputId);\n",
              "}\n",
              "\n",
              "// This is roughly an async generator (not supported in the browser yet),\n",
              "// where there are multiple asynchronous steps and the Python side is going\n",
              "// to poll for completion of each step.\n",
              "// This uses a Promise to block the python side on completion of each step,\n",
              "// then passes the result of the previous step as the input to the next step.\n",
              "function _uploadFilesContinue(outputId) {\n",
              "  const outputElement = document.getElementById(outputId);\n",
              "  const steps = outputElement.steps;\n",
              "\n",
              "  const next = steps.next(outputElement.lastPromiseValue);\n",
              "  return Promise.resolve(next.value.promise).then((value) => {\n",
              "    // Cache the last promise value to make it available to the next\n",
              "    // step of the generator.\n",
              "    outputElement.lastPromiseValue = value;\n",
              "    return next.value.response;\n",
              "  });\n",
              "}\n",
              "\n",
              "/**\n",
              " * Generator function which is called between each async step of the upload\n",
              " * process.\n",
              " * @param {string} inputId Element ID of the input file picker element.\n",
              " * @param {string} outputId Element ID of the output display.\n",
              " * @return {!Iterable<!Object>} Iterable of next steps.\n",
              " */\n",
              "function* uploadFilesStep(inputId, outputId) {\n",
              "  const inputElement = document.getElementById(inputId);\n",
              "  inputElement.disabled = false;\n",
              "\n",
              "  const outputElement = document.getElementById(outputId);\n",
              "  outputElement.innerHTML = '';\n",
              "\n",
              "  const pickedPromise = new Promise((resolve) => {\n",
              "    inputElement.addEventListener('change', (e) => {\n",
              "      resolve(e.target.files);\n",
              "    });\n",
              "  });\n",
              "\n",
              "  const cancel = document.createElement('button');\n",
              "  inputElement.parentElement.appendChild(cancel);\n",
              "  cancel.textContent = 'Cancel upload';\n",
              "  const cancelPromise = new Promise((resolve) => {\n",
              "    cancel.onclick = () => {\n",
              "      resolve(null);\n",
              "    };\n",
              "  });\n",
              "\n",
              "  // Wait for the user to pick the files.\n",
              "  const files = yield {\n",
              "    promise: Promise.race([pickedPromise, cancelPromise]),\n",
              "    response: {\n",
              "      action: 'starting',\n",
              "    }\n",
              "  };\n",
              "\n",
              "  cancel.remove();\n",
              "\n",
              "  // Disable the input element since further picks are not allowed.\n",
              "  inputElement.disabled = true;\n",
              "\n",
              "  if (!files) {\n",
              "    return {\n",
              "      response: {\n",
              "        action: 'complete',\n",
              "      }\n",
              "    };\n",
              "  }\n",
              "\n",
              "  for (const file of files) {\n",
              "    const li = document.createElement('li');\n",
              "    li.append(span(file.name, {fontWeight: 'bold'}));\n",
              "    li.append(span(\n",
              "        `(${file.type || 'n/a'}) - ${file.size} bytes, ` +\n",
              "        `last modified: ${\n",
              "            file.lastModifiedDate ? file.lastModifiedDate.toLocaleDateString() :\n",
              "                                    'n/a'} - `));\n",
              "    const percent = span('0% done');\n",
              "    li.appendChild(percent);\n",
              "\n",
              "    outputElement.appendChild(li);\n",
              "\n",
              "    const fileDataPromise = new Promise((resolve) => {\n",
              "      const reader = new FileReader();\n",
              "      reader.onload = (e) => {\n",
              "        resolve(e.target.result);\n",
              "      };\n",
              "      reader.readAsArrayBuffer(file);\n",
              "    });\n",
              "    // Wait for the data to be ready.\n",
              "    let fileData = yield {\n",
              "      promise: fileDataPromise,\n",
              "      response: {\n",
              "        action: 'continue',\n",
              "      }\n",
              "    };\n",
              "\n",
              "    // Use a chunked sending to avoid message size limits. See b/62115660.\n",
              "    let position = 0;\n",
              "    do {\n",
              "      const length = Math.min(fileData.byteLength - position, MAX_PAYLOAD_SIZE);\n",
              "      const chunk = new Uint8Array(fileData, position, length);\n",
              "      position += length;\n",
              "\n",
              "      const base64 = btoa(String.fromCharCode.apply(null, chunk));\n",
              "      yield {\n",
              "        response: {\n",
              "          action: 'append',\n",
              "          file: file.name,\n",
              "          data: base64,\n",
              "        },\n",
              "      };\n",
              "\n",
              "      let percentDone = fileData.byteLength === 0 ?\n",
              "          100 :\n",
              "          Math.round((position / fileData.byteLength) * 100);\n",
              "      percent.textContent = `${percentDone}% done`;\n",
              "\n",
              "    } while (position < fileData.byteLength);\n",
              "  }\n",
              "\n",
              "  // All done.\n",
              "  yield {\n",
              "    response: {\n",
              "      action: 'complete',\n",
              "    }\n",
              "  };\n",
              "}\n",
              "\n",
              "scope.google = scope.google || {};\n",
              "scope.google.colab = scope.google.colab || {};\n",
              "scope.google.colab._files = {\n",
              "  _uploadFiles,\n",
              "  _uploadFilesContinue,\n",
              "};\n",
              "})(self);\n",
              "</script> "
            ],
            "text/plain": [
              "<IPython.core.display.HTML object>"
            ]
          },
          "metadata": {},
          "output_type": "display_data"
        },
        {
          "name": "stdout",
          "output_type": "stream",
          "text": [
            "Saving Case Partner Ops Data - Table2_dimension_store.partners.csv to Case Partner Ops Data - Table2_dimension_store.partners.csv\n"
          ]
        }
      ],
      "source": [
        "uploaded = files.upload()  #This will open a window to select the CSV file."
      ]
    },
    {
      "cell_type": "code",
      "execution_count": null,
      "metadata": {
        "id": "jHRDCwKGkmjX"
      },
      "outputs": [],
      "source": [
        "df = pd.read_csv(\"Case Partner Ops Data - Table2_dimension_store.partners.csv\")"
      ]
    },
    {
      "cell_type": "code",
      "execution_count": null,
      "metadata": {
        "colab": {
          "base_uri": "https://localhost:8080/"
        },
        "id": "H4_LI893koft",
        "outputId": "c80717b6-cccd-4822-fdae-01aa209009c5"
      },
      "outputs": [
        {
          "name": "stdout",
          "output_type": "stream",
          "text": [
            "   core_partner_id    partner_trade_name                address  \\\n",
            "0              101           FitClub Gym  123 Main St, Downtown   \n",
            "1              102    PowerHouse Fitness    456 Oak Ave, Uptown   \n",
            "2              103              Flex Gym   789 Pine Rd, Midtown   \n",
            "3              104  HealthFirst Wellness  101 Health Blvd, East   \n",
            "4              105      StrongFit Studio    202 Fit Ln, Suburbs   \n",
            "\n",
            "   contact_number      segment_type        country  \n",
            "0  (202) 123-4567  Full Service Gym  United States  \n",
            "1  (202) 234-5678  Full Service Gym  United States  \n",
            "2  (202) 345-6789            Studio  United States  \n",
            "3  (202) 456-7890   Wellness Center  United States  \n",
            "4  (202) 567-8901            Studio  United States  \n"
          ]
        }
      ],
      "source": [
        "print(df.head(5))"
      ]
    },
    {
      "cell_type": "markdown",
      "metadata": {
        "id": "zHBf_XRRgrcE"
      },
      "source": [
        "As this is a dimension table, no need for corrections was identified in the *'Case Partner Ops Data - Table2_dimension_store.partners.csv'* table. Therefore, we will proceed with the original table as received in the case presentation."
      ]
    },
    {
      "cell_type": "code",
      "execution_count": null,
      "metadata": {
        "colab": {
          "base_uri": "https://localhost:8080/"
        },
        "id": "cEkhqiRokq_s",
        "outputId": "b7fe471f-e6b9-4cd0-a365-2b24eed563fa"
      },
      "outputs": [
        {
          "name": "stdout",
          "output_type": "stream",
          "text": [
            "<class 'pandas.core.frame.DataFrame'>\n",
            "RangeIndex: 5 entries, 0 to 4\n",
            "Data columns (total 6 columns):\n",
            " #   Column              Non-Null Count  Dtype \n",
            "---  ------              --------------  ----- \n",
            " 0   core_partner_id     5 non-null      int64 \n",
            " 1   partner_trade_name  5 non-null      object\n",
            " 2   address             5 non-null      object\n",
            " 3   contact_number      5 non-null      object\n",
            " 4   segment_type        5 non-null      object\n",
            " 5   country             5 non-null      object\n",
            "dtypes: int64(1), object(5)\n",
            "memory usage: 372.0+ bytes\n",
            "None\n"
          ]
        }
      ],
      "source": [
        "print(df.info())  #Displays data types and null values."
      ]
    },
    {
      "cell_type": "markdown",
      "metadata": {
        "id": "v-4EwYZthEqL"
      },
      "source": [
        "With the second table requiring no corrections, we will now move on to the table *'Case Partner Ops Data - Table3_dimension_store.partner_products.csv'* to assess the need for any data corrections and cleaning."
      ]
    },
    {
      "cell_type": "code",
      "execution_count": null,
      "metadata": {
        "colab": {
          "base_uri": "https://localhost:8080/",
          "height": 93
        },
        "id": "-ZuYg_BckvTA",
        "outputId": "ae114c70-dac9-4980-cd61-d5318c8e9cab"
      },
      "outputs": [
        {
          "data": {
            "text/html": [
              "\n",
              "     <input type=\"file\" id=\"files-228f8c0e-a91c-4325-a39c-263f0d81d399\" name=\"files[]\" multiple disabled\n",
              "        style=\"border:none\" />\n",
              "     <output id=\"result-228f8c0e-a91c-4325-a39c-263f0d81d399\">\n",
              "      Upload widget is only available when the cell has been executed in the\n",
              "      current browser session. Please rerun this cell to enable.\n",
              "      </output>\n",
              "      <script>// Copyright 2017 Google LLC\n",
              "//\n",
              "// Licensed under the Apache License, Version 2.0 (the \"License\");\n",
              "// you may not use this file except in compliance with the License.\n",
              "// You may obtain a copy of the License at\n",
              "//\n",
              "//      http://www.apache.org/licenses/LICENSE-2.0\n",
              "//\n",
              "// Unless required by applicable law or agreed to in writing, software\n",
              "// distributed under the License is distributed on an \"AS IS\" BASIS,\n",
              "// WITHOUT WARRANTIES OR CONDITIONS OF ANY KIND, either express or implied.\n",
              "// See the License for the specific language governing permissions and\n",
              "// limitations under the License.\n",
              "\n",
              "/**\n",
              " * @fileoverview Helpers for google.colab Python module.\n",
              " */\n",
              "(function(scope) {\n",
              "function span(text, styleAttributes = {}) {\n",
              "  const element = document.createElement('span');\n",
              "  element.textContent = text;\n",
              "  for (const key of Object.keys(styleAttributes)) {\n",
              "    element.style[key] = styleAttributes[key];\n",
              "  }\n",
              "  return element;\n",
              "}\n",
              "\n",
              "// Max number of bytes which will be uploaded at a time.\n",
              "const MAX_PAYLOAD_SIZE = 100 * 1024;\n",
              "\n",
              "function _uploadFiles(inputId, outputId) {\n",
              "  const steps = uploadFilesStep(inputId, outputId);\n",
              "  const outputElement = document.getElementById(outputId);\n",
              "  // Cache steps on the outputElement to make it available for the next call\n",
              "  // to uploadFilesContinue from Python.\n",
              "  outputElement.steps = steps;\n",
              "\n",
              "  return _uploadFilesContinue(outputId);\n",
              "}\n",
              "\n",
              "// This is roughly an async generator (not supported in the browser yet),\n",
              "// where there are multiple asynchronous steps and the Python side is going\n",
              "// to poll for completion of each step.\n",
              "// This uses a Promise to block the python side on completion of each step,\n",
              "// then passes the result of the previous step as the input to the next step.\n",
              "function _uploadFilesContinue(outputId) {\n",
              "  const outputElement = document.getElementById(outputId);\n",
              "  const steps = outputElement.steps;\n",
              "\n",
              "  const next = steps.next(outputElement.lastPromiseValue);\n",
              "  return Promise.resolve(next.value.promise).then((value) => {\n",
              "    // Cache the last promise value to make it available to the next\n",
              "    // step of the generator.\n",
              "    outputElement.lastPromiseValue = value;\n",
              "    return next.value.response;\n",
              "  });\n",
              "}\n",
              "\n",
              "/**\n",
              " * Generator function which is called between each async step of the upload\n",
              " * process.\n",
              " * @param {string} inputId Element ID of the input file picker element.\n",
              " * @param {string} outputId Element ID of the output display.\n",
              " * @return {!Iterable<!Object>} Iterable of next steps.\n",
              " */\n",
              "function* uploadFilesStep(inputId, outputId) {\n",
              "  const inputElement = document.getElementById(inputId);\n",
              "  inputElement.disabled = false;\n",
              "\n",
              "  const outputElement = document.getElementById(outputId);\n",
              "  outputElement.innerHTML = '';\n",
              "\n",
              "  const pickedPromise = new Promise((resolve) => {\n",
              "    inputElement.addEventListener('change', (e) => {\n",
              "      resolve(e.target.files);\n",
              "    });\n",
              "  });\n",
              "\n",
              "  const cancel = document.createElement('button');\n",
              "  inputElement.parentElement.appendChild(cancel);\n",
              "  cancel.textContent = 'Cancel upload';\n",
              "  const cancelPromise = new Promise((resolve) => {\n",
              "    cancel.onclick = () => {\n",
              "      resolve(null);\n",
              "    };\n",
              "  });\n",
              "\n",
              "  // Wait for the user to pick the files.\n",
              "  const files = yield {\n",
              "    promise: Promise.race([pickedPromise, cancelPromise]),\n",
              "    response: {\n",
              "      action: 'starting',\n",
              "    }\n",
              "  };\n",
              "\n",
              "  cancel.remove();\n",
              "\n",
              "  // Disable the input element since further picks are not allowed.\n",
              "  inputElement.disabled = true;\n",
              "\n",
              "  if (!files) {\n",
              "    return {\n",
              "      response: {\n",
              "        action: 'complete',\n",
              "      }\n",
              "    };\n",
              "  }\n",
              "\n",
              "  for (const file of files) {\n",
              "    const li = document.createElement('li');\n",
              "    li.append(span(file.name, {fontWeight: 'bold'}));\n",
              "    li.append(span(\n",
              "        `(${file.type || 'n/a'}) - ${file.size} bytes, ` +\n",
              "        `last modified: ${\n",
              "            file.lastModifiedDate ? file.lastModifiedDate.toLocaleDateString() :\n",
              "                                    'n/a'} - `));\n",
              "    const percent = span('0% done');\n",
              "    li.appendChild(percent);\n",
              "\n",
              "    outputElement.appendChild(li);\n",
              "\n",
              "    const fileDataPromise = new Promise((resolve) => {\n",
              "      const reader = new FileReader();\n",
              "      reader.onload = (e) => {\n",
              "        resolve(e.target.result);\n",
              "      };\n",
              "      reader.readAsArrayBuffer(file);\n",
              "    });\n",
              "    // Wait for the data to be ready.\n",
              "    let fileData = yield {\n",
              "      promise: fileDataPromise,\n",
              "      response: {\n",
              "        action: 'continue',\n",
              "      }\n",
              "    };\n",
              "\n",
              "    // Use a chunked sending to avoid message size limits. See b/62115660.\n",
              "    let position = 0;\n",
              "    do {\n",
              "      const length = Math.min(fileData.byteLength - position, MAX_PAYLOAD_SIZE);\n",
              "      const chunk = new Uint8Array(fileData, position, length);\n",
              "      position += length;\n",
              "\n",
              "      const base64 = btoa(String.fromCharCode.apply(null, chunk));\n",
              "      yield {\n",
              "        response: {\n",
              "          action: 'append',\n",
              "          file: file.name,\n",
              "          data: base64,\n",
              "        },\n",
              "      };\n",
              "\n",
              "      let percentDone = fileData.byteLength === 0 ?\n",
              "          100 :\n",
              "          Math.round((position / fileData.byteLength) * 100);\n",
              "      percent.textContent = `${percentDone}% done`;\n",
              "\n",
              "    } while (position < fileData.byteLength);\n",
              "  }\n",
              "\n",
              "  // All done.\n",
              "  yield {\n",
              "    response: {\n",
              "      action: 'complete',\n",
              "    }\n",
              "  };\n",
              "}\n",
              "\n",
              "scope.google = scope.google || {};\n",
              "scope.google.colab = scope.google.colab || {};\n",
              "scope.google.colab._files = {\n",
              "  _uploadFiles,\n",
              "  _uploadFilesContinue,\n",
              "};\n",
              "})(self);\n",
              "</script> "
            ],
            "text/plain": [
              "<IPython.core.display.HTML object>"
            ]
          },
          "metadata": {},
          "output_type": "display_data"
        },
        {
          "name": "stdout",
          "output_type": "stream",
          "text": [
            "Saving Case Partner Ops Data - Table3_dimension_store.partner_products.csv to Case Partner Ops Data - Table3_dimension_store.partner_products.csv\n"
          ]
        }
      ],
      "source": [
        "uploaded = files.upload()  #This will open a window to select the CSV file."
      ]
    },
    {
      "cell_type": "code",
      "execution_count": null,
      "metadata": {
        "id": "6ra23Unpkz04"
      },
      "outputs": [],
      "source": [
        "df = pd.read_csv(\"Case Partner Ops Data - Table3_dimension_store.partner_products.csv\")"
      ]
    },
    {
      "cell_type": "markdown",
      "metadata": {
        "id": "iZcqdH4YhJtb"
      },
      "source": [
        "As verified below, the table *'Case Partner Ops Data - Table3_dimension_store.partner_products.csv'* has the columns **product_cost_per_usage** and **product_cap_value** as integers, and the column **last_price_update** in the correct date format but without hours, minutes, and seconds. To align with the format of the table *'Case Partner Ops Data - Table1_partners_payout.csv'*, we will convert the columns **product_cost_per_usage** and **product_cap_value** to floating-point numbers and the column **last_price_update** to a datetime format."
      ]
    },
    {
      "cell_type": "code",
      "execution_count": null,
      "metadata": {
        "colab": {
          "base_uri": "https://localhost:8080/"
        },
        "id": "ot9gBXcqk402",
        "outputId": "5be047d0-5209-4a40-cc76-6da470f056df"
      },
      "outputs": [
        {
          "name": "stdout",
          "output_type": "stream",
          "text": [
            "   satya_partner_product_id               activity_name  \\\n",
            "0                      1001                  Musculação   \n",
            "1                      1002  Aulas de Personal Training   \n",
            "2                      1003               Aulas de Yoga   \n",
            "3                      1004                     Natação   \n",
            "4                      1005            Aulas de Pilates   \n",
            "\n",
            "   product_cost_per_usage  product_cap_value      segment_type  \\\n",
            "0                      50                500  Full Service Gym   \n",
            "1                     100                800  Full Service Gym   \n",
            "2                      30                300            Studio   \n",
            "3                     120                600  Full Service Gym   \n",
            "4                      40                400            Studio   \n",
            "\n",
            "  last_price_update  \n",
            "0        2025-01-10  \n",
            "1        2025-01-15  \n",
            "2        2025-01-20  \n",
            "3        2023-05-10  \n",
            "4        2025-01-25  \n"
          ]
        }
      ],
      "source": [
        "print(df.head(5))"
      ]
    },
    {
      "cell_type": "code",
      "execution_count": null,
      "metadata": {
        "colab": {
          "base_uri": "https://localhost:8080/"
        },
        "id": "xreB4kMymGTw",
        "outputId": "faae06db-9fee-48ab-d638-e1649315fd10"
      },
      "outputs": [
        {
          "name": "stdout",
          "output_type": "stream",
          "text": [
            "    last_price_update\n",
            "0  2025-01-10 0:00:00\n",
            "1  2025-01-15 0:00:00\n",
            "2  2025-01-20 0:00:00\n",
            "3  2023-05-10 0:00:00\n",
            "4  2025-01-25 0:00:00\n"
          ]
        }
      ],
      "source": [
        "#First, ensure that the column is in datetime format.\n",
        "df['last_price_update'] = pd.to_datetime(df['last_price_update'], format='%Y-%m-%d')\n",
        "\n",
        "#Now, add the desired time. If not specified, we will add 00:00:00.\n",
        "df['last_price_update'] = df['last_price_update'].dt.strftime('%Y-%m-%d 0:00:00')\n",
        "\n",
        "# Verificar se a transformação foi realizada corretamente\n",
        "print(df[['last_price_update']].head(5))\n"
      ]
    },
    {
      "cell_type": "code",
      "execution_count": null,
      "metadata": {
        "id": "OUJfmwrsmo70"
      },
      "outputs": [],
      "source": [
        "#Convert the columns to float.\n",
        "df['product_cost_per_usage'] = df['product_cost_per_usage'].astype(float)\n",
        "df['product_cap_value'] = df['product_cap_value'].astype(float) / 10  #Dividing by 10\n",
        "\n",
        "#Replace the period with a comma in the specified columns.\n",
        "df['product_cost_per_usage'] = df['product_cost_per_usage'].apply(lambda x: str(x).replace('.', ','))\n",
        "df['product_cap_value'] = df['product_cap_value'].apply(lambda x: str(x).replace('.', ','))\n"
      ]
    },
    {
      "cell_type": "code",
      "execution_count": null,
      "metadata": {
        "colab": {
          "base_uri": "https://localhost:8080/"
        },
        "id": "u1PAuU9Sm5O-",
        "outputId": "f30926d0-9951-4f34-860a-d06d25cd82f7"
      },
      "outputs": [
        {
          "name": "stdout",
          "output_type": "stream",
          "text": [
            "<class 'pandas.core.frame.DataFrame'>\n",
            "RangeIndex: 15 entries, 0 to 14\n",
            "Data columns (total 6 columns):\n",
            " #   Column                    Non-Null Count  Dtype \n",
            "---  ------                    --------------  ----- \n",
            " 0   satya_partner_product_id  15 non-null     int64 \n",
            " 1   activity_name             15 non-null     object\n",
            " 2   product_cost_per_usage    15 non-null     object\n",
            " 3   product_cap_value         15 non-null     object\n",
            " 4   segment_type              15 non-null     object\n",
            " 5   last_price_update         15 non-null     object\n",
            "dtypes: int64(1), object(5)\n",
            "memory usage: 852.0+ bytes\n",
            "None\n"
          ]
        }
      ],
      "source": [
        "print(df.info())  #Displays data types and null values."
      ]
    },
    {
      "cell_type": "code",
      "execution_count": null,
      "metadata": {
        "colab": {
          "base_uri": "https://localhost:8080/"
        },
        "id": "2f15sBj4_EpM",
        "outputId": "50aa7dc1-56c3-44f1-db9c-17d40ccebb30"
      },
      "outputs": [
        {
          "name": "stdout",
          "output_type": "stream",
          "text": [
            "       product_cost_per_usage product_cap_value\n",
            "count                      15                15\n",
            "unique                     10                 9\n",
            "top                      50,0              80,0\n",
            "freq                        2                 3\n"
          ]
        }
      ],
      "source": [
        "print(df[['product_cost_per_usage', 'product_cap_value']].describe())"
      ]
    },
    {
      "cell_type": "markdown",
      "metadata": {
        "id": "HPJoLBgvjWG3"
      },
      "source": [
        "After the correction, the file was saved as *'Case Partner Ops Data - Table3_dimension_store.partner_products_adjusted.csv'* and downloaded in **CSV** format."
      ]
    },
    {
      "cell_type": "code",
      "execution_count": null,
      "metadata": {
        "colab": {
          "base_uri": "https://localhost:8080/",
          "height": 17
        },
        "id": "aUxblwgxnCh5",
        "outputId": "39dad7ae-1887-40d1-865f-3824c4260025"
      },
      "outputs": [
        {
          "data": {
            "application/javascript": "\n    async function download(id, filename, size) {\n      if (!google.colab.kernel.accessAllowed) {\n        return;\n      }\n      const div = document.createElement('div');\n      const label = document.createElement('label');\n      label.textContent = `Downloading \"${filename}\": `;\n      div.appendChild(label);\n      const progress = document.createElement('progress');\n      progress.max = size;\n      div.appendChild(progress);\n      document.body.appendChild(div);\n\n      const buffers = [];\n      let downloaded = 0;\n\n      const channel = await google.colab.kernel.comms.open(id);\n      // Send a message to notify the kernel that we're ready.\n      channel.send({})\n\n      for await (const message of channel.messages) {\n        // Send a message to notify the kernel that we're ready.\n        channel.send({})\n        if (message.buffers) {\n          for (const buffer of message.buffers) {\n            buffers.push(buffer);\n            downloaded += buffer.byteLength;\n            progress.value = downloaded;\n          }\n        }\n      }\n      const blob = new Blob(buffers, {type: 'application/binary'});\n      const a = document.createElement('a');\n      a.href = window.URL.createObjectURL(blob);\n      a.download = filename;\n      div.appendChild(a);\n      a.click();\n      div.remove();\n    }\n  ",
            "text/plain": [
              "<IPython.core.display.Javascript object>"
            ]
          },
          "metadata": {},
          "output_type": "display_data"
        },
        {
          "data": {
            "application/javascript": "download(\"download_47a089e8-5737-40c1-8c24-6decf458c1d8\", \"Case Partner Ops Data - Table3_dimension_store.partner_products_adjusted.csv\", 1163)",
            "text/plain": [
              "<IPython.core.display.Javascript object>"
            ]
          },
          "metadata": {},
          "output_type": "display_data"
        }
      ],
      "source": [
        "df.to_csv(\"Case Partner Ops Data - Table3_dimension_store.partner_products_adjusted.csv\", index=False)\n",
        "files.download(\"Case Partner Ops Data - Table3_dimension_store.partner_products_adjusted.csv\")"
      ]
    },
    {
      "cell_type": "markdown",
      "metadata": {
        "id": "UkRWupb6jdTR"
      },
      "source": [
        "With all corrections completed and the datasets downloaded, we can proceed with structuring the databases in **SSMS** and crafting the queries that will provide us with the key insights.\n",
        "The documentation, which includes a detailed step-by-step guide for structuring the databases and the formulated queries, can be accessed through the following [link](https://github.com/eliabearaujo/partner-payments-bi/blob/dbae7314c775c6d6d9b94b5c0d8d11e118c17430/SQL%20Documentation.md)."
      ]
    }
  ],
  "metadata": {
    "colab": {
      "provenance": []
    },
    "kernelspec": {
      "display_name": "Python 3",
      "name": "python3"
    },
    "language_info": {
      "name": "python"
    }
  },
  "nbformat": 4,
  "nbformat_minor": 0
}
